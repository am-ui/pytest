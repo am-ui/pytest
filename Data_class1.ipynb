{
 "cells": [
  {
   "cell_type": "markdown",
   "metadata": {},
   "source": [
    "Create Database connection and retrive the data"
   ]
  },
  {
   "cell_type": "code",
   "execution_count": 17,
   "metadata": {},
   "outputs": [
    {
     "name": "stdout",
     "output_type": "stream",
     "text": [
      "Record(customer_id=1, name='Alice Johnson', email='alice@example.com')\n",
      "Record(customer_id=2, name='Bob Smith', email='bob@example.com')\n",
      "Record(customer_id=3, name='Charlie Davis', email='charlie@example.com')\n",
      "Record(customer_id=4, name='Diana Green', email='diana@example.com')\n",
      "Record(customer_id=5, name='Ethan Brown', email='ethan@example.com')\n",
      "Record(customer_id=6, name='Fiona White', email='fiona@example.com')\n",
      "Record(customer_id=7, name='George Black', email='george@example.com')\n",
      "Record(customer_id=8, name='Hannah Scott', email='hannah@example.com')\n",
      "Record(customer_id=9, name='Ian Lewis', email='ian@example.com')\n",
      "Record(customer_id=10, name='Jane Adams', email='jane@example.com')\n"
     ]
    }
   ],
   "source": [
    "import psycopg2\n",
    "from dataclasses import dataclass\n",
    "from typing import List\n",
    "\n",
    "# Define the dataclass\n",
    "@dataclass\n",
    "class Record:\n",
    "    customer_id: int\n",
    "    name: str\n",
    "    email: str\n",
    "\n",
    "# Function to fetch records from PostgreSQL\n",
    "def fetch_records() -> List[Record]:\n",
    "    # Connect to your postgres DB\n",
    "    connection = psycopg2.connect(\n",
    "        dbname=\"mydatabase\", \n",
    "        user=\"postgres\",\n",
    "        password=\"qwerty@1234\",\n",
    "        host=\"localhost\",\n",
    "        port=\"5432\"\n",
    ")\n",
    "    \n",
    "\n",
    "    # Create a cursor object\n",
    "    cursor = connection.cursor()\n",
    "\n",
    "    # Query to fetch data\n",
    "    cursor.execute(\"SELECT customer_id, name, email FROM customers;\")\n",
    "    records = cursor.fetchall()  # Fetch all records\n",
    "    \n",
    "    # Map results to Record dataclass\n",
    "    result = [Record(customer_id=row[0], name=row[1], email=row[2]) for row in records]\n",
    "\n",
    "    # Close the cursor and connection\n",
    "    cursor.close()\n",
    "    connection.close()\n",
    "\n",
    "    return result\n",
    "\n",
    "# Example usage\n",
    "if __name__ == \"__main__\":\n",
    "    records = fetch_records()\n",
    "    for record in records:\n",
    "        print(record)\n"
   ]
  },
  {
   "cell_type": "markdown",
   "metadata": {},
   "source": [
    "Insert the records into tables"
   ]
  },
  {
   "cell_type": "code",
   "execution_count": 18,
   "metadata": {},
   "outputs": [
    {
     "name": "stdout",
     "output_type": "stream",
     "text": [
      "Record inserted successfully!\n"
     ]
    }
   ],
   "source": [
    "import psycopg2\n",
    "\n",
    "def insert_record(customer_id: int, name: str, email: str, created_at: str):\n",
    "    try:\n",
    "        connection = psycopg2.connect(\n",
    "            dbname=\"mydatabase\",\n",
    "            user=\"postgres\",\n",
    "            password=\"qwerty@1234\",\n",
    "            host=\"localhost\",\n",
    "            port=\"5432\"\n",
    "        )\n",
    "        cursor = connection.cursor()\n",
    "        \n",
    "        # SQL Insert Statement\n",
    "        insert_query = \"\"\"INSERT INTO customers (customer_id, name, email, created_at) VALUES (%s, %s, %s, %s);\"\"\"\n",
    "        record_to_insert = (customer_id, name, email, created_at)\n",
    "        \n",
    "        cursor.execute(insert_query, record_to_insert)\n",
    "        connection.commit()  # Save changes\n",
    "\n",
    "        print(\"Record inserted successfully!\")\n",
    "\n",
    "        cursor.close()\n",
    "        connection.close()\n",
    "    except psycopg2.Error as e:\n",
    "        print(f\"Error: {e}\")\n",
    "\n",
    "# Example Usage\n",
    "insert_record(101, \"John Doe\", \"johndoe@example.com\",\"2025-03-01 08:00:00\")\n"
   ]
  },
  {
   "cell_type": "code",
   "execution_count": 19,
   "metadata": {},
   "outputs": [
    {
     "name": "stdout",
     "output_type": "stream",
     "text": [
      "Record inserted successfully!\n"
     ]
    }
   ],
   "source": [
    "import psycopg2\n",
    "\n",
    "def insert_record(customer_id: int, name: str, email: str, created_at: str):\n",
    "    \n",
    "    connection = psycopg2.connect(\n",
    "        dbname=\"mydatabase\",\n",
    "        user=\"postgres\",\n",
    "        password=\"qwerty@1234\",\n",
    "        host=\"localhost\",\n",
    "        port=\"5432\"\n",
    "    )\n",
    "    cursor = connection.cursor()\n",
    "    \n",
    "    # SQL Insert Statement\n",
    "    insert_query = \"\"\"INSERT INTO customers (customer_id, name, email, created_at) VALUES (%s, %s, %s, %s);\"\"\"\n",
    "    record_to_insert = (customer_id, name, email, created_at)\n",
    "    \n",
    "    cursor.execute(insert_query, record_to_insert)\n",
    "    connection.commit()  # Save changes\n",
    "    print(\"Record inserted successfully!\")\n",
    "    cursor.close()\n",
    "    connection.close()\n",
    "\n",
    "\n",
    "\n",
    "# Example Usage\n",
    "insert_record(102, \"preet\", \"preet@example.com\",\"2025-03-01 08:00:00\")\n"
   ]
  }
 ],
 "metadata": {
  "kernelspec": {
   "display_name": "Python 3",
   "language": "python",
   "name": "python3"
  },
  "language_info": {
   "codemirror_mode": {
    "name": "ipython",
    "version": 3
   },
   "file_extension": ".py",
   "mimetype": "text/x-python",
   "name": "python",
   "nbconvert_exporter": "python",
   "pygments_lexer": "ipython3",
   "version": "3.8.10"
  }
 },
 "nbformat": 4,
 "nbformat_minor": 2
}
