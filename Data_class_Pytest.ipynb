{
 "cells": [
  {
   "cell_type": "code",
   "execution_count": 1,
   "metadata": {},
   "outputs": [],
   "source": [
    "import pytest "
   ]
  },
  {
   "cell_type": "code",
   "execution_count": 2,
   "metadata": {},
   "outputs": [
    {
     "name": "stdout",
     "output_type": "stream",
     "text": [
      "person(age=12, name='amit', profession='data engineer')\n"
     ]
    }
   ],
   "source": [
    "from dataclasses import dataclass\n",
    "@dataclass\n",
    "class person:\n",
    "    age : int\n",
    "    name : str\n",
    "    profession : str\n",
    "\n",
    "info =  person(12, 'amit', 'data engineer')\n",
    "print(info)"
   ]
  },
  {
   "cell_type": "code",
   "execution_count": 4,
   "metadata": {},
   "outputs": [
    {
     "name": "stdout",
     "output_type": "stream",
     "text": [
      "Writing first_test.py\n"
     ]
    }
   ],
   "source": [
    "%%writefile first_test.py\n",
    "from dataclasses import dataclass\n",
    "\n",
    "@dataclass\n",
    "class Person:\n",
    "    name: str\n",
    "    age: int\n",
    "\n",
    "    def greet(self):\n",
    "        return f\"Hello, my name is {self.name} and I am {self.age} years old.\"\n",
    "\n",
    "    def is_adult(self):\n",
    "        return self.age >= 18\n"
   ]
  },
  {
   "cell_type": "code",
   "execution_count": 6,
   "metadata": {},
   "outputs": [
    {
     "name": "stdout",
     "output_type": "stream",
     "text": [
      "Writing test_first.py\n"
     ]
    }
   ],
   "source": [
    "%%writefile test_first.py\n",
    "import pytest\n",
    "from first_test import Person  \n",
    "\n",
    "# Test case for the Person class\n",
    "def test_person_creation():\n",
    "    person = Person(name=\"John\", age=25)\n",
    "    assert person.name == \"John\"\n",
    "    assert person.age == 25\n",
    "\n",
    "def test_greet_method():\n",
    "    person = Person(name=\"Alice\", age=30)\n",
    "    assert person.greet() == \"Hello, my name is Alice and I am 30 years old.\"\n",
    "\n",
    "def test_is_adult_method():\n",
    "    person = Person(name=\"Bob\", age=17)\n",
    "    assert not person.is_adult()\n",
    "\n",
    "    adult = Person(name=\"Charlie\", age=25)\n",
    "    assert adult.is_adult()\n",
    "\n"
   ]
  },
  {
   "cell_type": "code",
   "execution_count": null,
   "metadata": {},
   "outputs": [],
   "source": []
  }
 ],
 "metadata": {
  "kernelspec": {
   "display_name": "3.8.10",
   "language": "python",
   "name": "python3"
  },
  "language_info": {
   "codemirror_mode": {
    "name": "ipython",
    "version": 3
   },
   "file_extension": ".py",
   "mimetype": "text/x-python",
   "name": "python",
   "nbconvert_exporter": "python",
   "pygments_lexer": "ipython3",
   "version": "3.8.10"
  }
 },
 "nbformat": 4,
 "nbformat_minor": 2
}
