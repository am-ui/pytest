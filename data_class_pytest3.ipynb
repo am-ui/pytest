{
 "cells": [
  {
   "cell_type": "code",
   "execution_count": null,
   "metadata": {},
   "outputs": [
    {
     "name": "stdout",
     "output_type": "stream",
     "text": [
      "Overwriting prod_invent.py\n"
     ]
    }
   ],
   "source": [
    "%%writefile prod_invent.py\n",
    "from dataclasses import dataclass, field\n",
    "from typing import List, Optional\n",
    "\n",
    "\n",
    "class InvalidDiscountError(Exception):\n",
    "    \"\"\"Custom exception for invalid discount.\"\"\"\n",
    "    pass\n",
    "\n",
    "\n",
    "@dataclass\n",
    "class Category:\n",
    "    name: str\n",
    "    description: Optional[str] = \"\"\n",
    "\n",
    "    def __str__(self):\n",
    "        return f\"{self.name}: {self.description}\"\n",
    "\n",
    "\n",
    "@dataclass\n",
    "class Product:\n",
    "    name: str\n",
    "    price: float\n",
    "    quantity: int\n",
    "    discount: Optional[float] = 0.0  \n",
    "    category: Category = field(default_factory=lambda: Category(name=\"General\", description=\"General Category\"))\n",
    "    tags: List[str] = field(default_factory=list)\n",
    "\n",
    "    def __post_init__(self):\n",
    "        \"\"\"Post initialization checks and validations.\"\"\"\n",
    "        if self.price < 0:\n",
    "            raise ValueError(f\"Price cannot be negative: {self.price}\")\n",
    "        if self.quantity < 0:\n",
    "            raise ValueError(f\"Quantity cannot be negative: {self.quantity}\")\n",
    "        if self.discount < 0 or self.discount > 100:\n",
    "            raise InvalidDiscountError(f\"Invalid discount: {self.discount}. Must be between 0 and 100.\")\n",
    "\n",
    "    def total_price(self) -> float:\n",
    "        \"\"\"Calculate the total price after applying the discount.\"\"\"\n",
    "        return self.price * self.quantity * (1 - self.discount / 100)\n",
    "\n",
    "    def apply_discount(self, discount: float) -> None:\n",
    "        \"\"\"Apply a discount to the product.\"\"\"\n",
    "        if discount < 0 or discount > 100:\n",
    "            raise InvalidDiscountError(f\"Discount must be between 0 and 100.\")\n",
    "        self.discount = discount\n",
    "\n",
    "    def update_quantity(self, change: int) -> None:\n",
    "        \"\"\"Update the product quantity by adding a change (can be negative).\"\"\"\n",
    "        if self.quantity + change < 0:\n",
    "            raise ValueError(\"Quantity cannot go below zero.\")\n",
    "        self.quantity += change\n",
    "\n",
    "    def add_tags(self, *new_tags: str) -> None:\n",
    "        \"\"\"Add tags to the product.\"\"\"\n",
    "        self.tags.extend(new_tags)\n",
    "\n",
    "    def apply_bulk_discount(self, bulk_discount_threshold: int, discount: float) -> None:\n",
    "        \"\"\"Apply a bulk discount if quantity exceeds threshold.\"\"\"\n",
    "        if self.quantity >= bulk_discount_threshold:\n",
    "            self.apply_discount(discount)\n",
    "\n",
    "\n",
    "@dataclass\n",
    "class Inventory:\n",
    "    products: List[Product] = field(default_factory=list)\n",
    "\n",
    "    def add_product(self, product: Product) -> None:\n",
    "        \"\"\"Add a product to the inventory.\"\"\"\n",
    "        self.products.append(product)\n",
    "\n",
    "    def get_product_by_name(self, name: str) -> Optional[Product]:\n",
    "        \"\"\"Find a product by its name.\"\"\"\n",
    "        return next((product for product in self.products if product.name == name), None)\n",
    "\n",
    "    def total_inventory_value(self) -> float:\n",
    "        \"\"\"Calculate the total value of the inventory.\"\"\"\n",
    "        return sum(product.total_price() for product in self.products)\n"
   ]
  },
  {
   "cell_type": "markdown",
   "metadata": {},
   "source": [
    "Testing"
   ]
  },
  {
   "cell_type": "code",
   "execution_count": 106,
   "metadata": {},
   "outputs": [
    {
     "name": "stdout",
     "output_type": "stream",
     "text": [
      "Overwriting test_prod_invent.py\n"
     ]
    }
   ],
   "source": [
    "%%writefile test_prod_invent.py\n",
    "from prod_invent import InvalidDiscountError, Category, Product, Inventory\n",
    "import pytest\n",
    "\n",
    "\n",
    "def test_category():\n",
    "    category = Category(name = 'Electronics', description = \"device and gadgets\")\n",
    "    assert category.name == 'Electronics'\n",
    "    assert category.description == 'device and gadgets'\n",
    "\n",
    "def test_product():\n",
    "    category = Category(name = 'Electronics', description = \"device and gadgets\")\n",
    "    product =  Product(name =  'Mobile', price = 3000.0, quantity = 3, discount = 0.0, tags = ['IOT', 'AI'])\n",
    "    assert product.name == 'Mobile'\n",
    "    assert product.price == 3000.0\n",
    "    assert product.quantity == 3\n",
    "    assert product.discount == 0.0\n",
    "    assert product.tags == ['IOT', 'AI']\n",
    "\n",
    "def test_total_price_wthout_discount():\n",
    "    product =  Product(name =  'Mobile', price = 3000.0, quantity = 3, tags = ['IOT', 'AI'])\n",
    "    total = product.total_price()\n",
    "    assert total == 9000.0\n",
    "\n",
    "#def test_total_price_with_discount():\n",
    "#    product =  Product(name = 'Mobile', price =  3000.0, discount =  10.0, quantity = 3, tags = ['IOT', 'AI'])\n",
    "#    total = product.total_price()\n",
    "#   assert total ==  8100.0\n",
    "\n",
    "    #or\n",
    "\n",
    "def test_total_price_with_discount():\n",
    "    product =  Product(name = 'Mobile', price =  3000.0, quantity = 3, tags = ['IOT', 'AI'])\n",
    "    discount = product.apply_discount(10.0)\n",
    "    total =  product.total_price()\n",
    "    assert total ==  8100.0\n",
    "\n",
    "def test_update_quantity():\n",
    "    product = Product(name = 'Mobile', price =  3000.0, quantity = 3, tags = ['IOT', 'AI'])\n",
    "    quantity = product.update_quantity(5)\n",
    "    total =  product.total_price()\n",
    "    assert product.quantity == 8\n",
    "    assert total == 24000.0\n",
    "\n",
    "def test_add_tags():\n",
    "    product = Product(name = 'Mobile', price =  3000.0, quantity = 3, tags = ['IOT', 'AI'])\n",
    "    product.add_tags('smart devices')\n",
    "    assert product.tags == ['IOT', 'AI', 'smart devices']\n",
    "\n",
    "def test_bulk_discount():\n",
    "    product = Product(name = 'Mobile', price =  3000.0, quantity = 3, tags = ['IOT', 'AI'])\n",
    "    product.apply_bulk_discount(4, 10)\n",
    "    #product.apply_discount(10)\n",
    "    total =  product.total_price()\n",
    "    assert total == 9000.0\n",
    "\n",
    "def test_inventory_management():\n",
    "    inventory = Inventory()\n",
    "    category = Category(name=\"Furniture\", description=\"Home furnishings\")\n",
    "    product1 = Product(name=\"Sofa\", price=700.0, quantity=3, category=category)\n",
    "    product2 = Product(name=\"Chair\", price=150.0, quantity=10, category=category)\n",
    "\n",
    "    inventory.add_product(product1)\n",
    "    inventory.add_product(product2)\n",
    "\n",
    "    # Test getting a product by name\n",
    "    retrieved_product = inventory.get_product_by_name(\"Sofa\")\n",
    "    assert retrieved_product == product1\n",
    "\n",
    "    # Test calculating the total inventory value\n",
    "    total_value = inventory.total_inventory_value()\n",
    "    assert total_value == (700.0 * 3) + (150.0 * 10)\n",
    "\n",
    "\n",
    "def test_invalid_price_and_quantity():\n",
    "    \"\"\"Test that invalid price and quantity raise errors.\"\"\"\n",
    "    with pytest.raises(ValueError):\n",
    "        Product(name=\"Table\", price=-100.0, quantity=5)  # Invalid price\n",
    "\n",
    "    with pytest.raises(ValueError):\n",
    "        Product(name=\"Table\", price=100.0, quantity=-5)  # Invalid quantity\n"
   ]
  },
  {
   "cell_type": "code",
   "execution_count": 107,
   "metadata": {},
   "outputs": [
    {
     "name": "stdout",
     "output_type": "stream",
     "text": [
      "\u001b[1m============================= test session starts ==============================\u001b[0m\n",
      "platform linux -- Python 3.8.10, pytest-8.3.5, pluggy-1.5.0\n",
      "rootdir: /home/amit.pathak\n",
      "collected 9 items                                                              \u001b[0m\n",
      "\n",
      "test_prod_invent.py \u001b[32m.\u001b[0m\u001b[32m.\u001b[0m\u001b[32m.\u001b[0m\u001b[32m.\u001b[0m\u001b[32m.\u001b[0m\u001b[32m.\u001b[0m\u001b[32m.\u001b[0m\u001b[32m.\u001b[0m\u001b[32m.\u001b[0m\u001b[32m                                            [100%]\u001b[0m\n",
      "\n",
      "\u001b[32m============================== \u001b[32m\u001b[1m9 passed\u001b[0m\u001b[32m in 0.03s\u001b[0m\u001b[32m ===============================\u001b[0m\n"
     ]
    }
   ],
   "source": [
    "!pytest test_prod_invent.py"
   ]
  },
  {
   "cell_type": "markdown",
   "metadata": {},
   "source": [
    "Using fixture"
   ]
  },
  {
   "cell_type": "code",
   "execution_count": null,
   "metadata": {},
   "outputs": [
    {
     "name": "stdout",
     "output_type": "stream",
     "text": [
      "Overwriting test_prod_invent1.py\n"
     ]
    }
   ],
   "source": [
    "%%writefile test_prod_invent1.py\n",
    "from prod_invent import InvalidDiscountError, Category, Product, Inventory\n",
    "import pytest\n",
    "\n",
    "@pytest.fixture\n",
    "def sample_product():\n",
    "    return Product(name =  'Mobile', price = 3000.0, quantity = 3, discount = 0.0, tags = ['IOT', 'AI'])\n",
    "\n",
    "@pytest.fixture\n",
    "def sample_category():\n",
    "    return Category(name = 'Electronics', description = \"device and gadgets\")\n",
    "\n",
    "def test_category(sample_category):\n",
    "    #category = Category(name = 'Electronics', description = \"device and gadgets\")\n",
    "    assert sample_category.name == 'Electronics'\n",
    "    assert sample_category.description == 'device and gadgets'\n",
    "\n",
    "def test_product(sample_category, sample_product):\n",
    "    #category = Category(name = 'Electronics', description = \"device and gadgets\")\n",
    "    #product =  Product(name =  'Mobile', price = 3000.0, quantity = 3, discount = 0.0, tags = ['IOT', 'AI'])\n",
    "    assert sample_product.name == 'Mobile'\n",
    "    assert sample_product.price == 3000.0\n",
    "    assert sample_product.quantity == 3\n",
    "    assert sample_product.discount == 0.0\n",
    "    assert sample_product.tags == ['IOT', 'AI']\n",
    "\n",
    "def test_total_price_wthout_discount(sample_product):\n",
    "    #product =  Product(name =  'Mobile', price = 3000.0, quantity = 3, tags = ['IOT', 'AI'])\n",
    "    total = sample_product.total_price()\n",
    "    assert total == 9000.0\n",
    "\n",
    "#def test_total_price_with_discount():\n",
    "#    product =  Product(name = 'Mobile', price =  3000.0, discount =  10.0, quantity = 3, tags = ['IOT', 'AI'])\n",
    "#    total = product.total_price()\n",
    "#   assert total ==  8100.0\n",
    "\n",
    "    #or\n",
    "\n",
    "def test_total_price_with_discount(sample_product):\n",
    "    #product =  Product(name = 'Mobile', price =  3000.0, quantity = 3, tags = ['IOT', 'AI'])\n",
    "    discount = sample_product.apply_discount(10.0)\n",
    "    total =  sample_product.total_price()\n",
    "    assert total ==  8100.0\n",
    "\n",
    "def test_update_quantity(sample_product):\n",
    "    #product = Product(name = 'Mobile', price =  3000.0, quantity = 3, tags = ['IOT', 'AI'])\n",
    "    quantity = sample_product.update_quantity(5)\n",
    "    total =  sample_product.total_price()\n",
    "    assert sample_product.quantity == 8\n",
    "    assert total == 24000.0\n",
    "\n",
    "def test_add_tags(sample_product):\n",
    "    #product = Product(name = 'Mobile', price =  3000.0, quantity = 3, tags = ['IOT', 'AI'])\n",
    "    sample_product.add_tags('smart devices')\n",
    "    assert sample_product.tags == ['IOT', 'AI', 'smart devices']\n",
    "\n",
    "def test_bulk_discount(sample_product):\n",
    "    #product = Product(name = 'Mobile', price =  3000.0, quantity = 3, tags = ['IOT', 'AI'])\n",
    "    sample_product.apply_bulk_discount(4, 10)\n",
    "    #product.apply_discount(10)\n",
    "    total =  sample_product.total_price()\n",
    "    assert total == 9000.0\n",
    "\n",
    "\n",
    "def test_inventory_management(sample_product, sample_category ):\n",
    "    inventory = Inventory()\n",
    "    #category = Category(name=\"Furniture\", description=\"Home furnishings\")\n",
    "    #product1 = Product(name=\"Sofa\", price=700.0, quantity=3, category=category)\n",
    "    #product2 = Product(name=\"Chair\", price=150.0, quantity=10, category=category)\n",
    "\n",
    "    inventory.add_product(sample_product)\n",
    "    #inventory.add_product(product2)\n",
    "\n",
    "    # Test getting a product by name\n",
    "    retrieved_product = inventory.get_product_by_name(\"Mobile\")\n",
    "    assert retrieved_product == sample_product\n",
    "\n",
    "    # Test calculating the total inventory value\n",
    "    total_value = inventory.total_inventory_value()\n",
    "    assert total_value == 9000.0\n",
    "\n",
    "\n",
    "def test_invalid_price_and_quantity():\n",
    "    \"\"\"Test that invalid price and quantity raise errors.\"\"\"\n",
    "    with pytest.raises(ValueError):\n",
    "        Product(name=\"Table\", price=-100.0, quantity=5)  # Invalid price\n",
    "\n",
    "    with pytest.raises(ValueError):\n",
    "        Product(name=\"Table\", price=100.0, quantity=-5)  # Invalid quantity\n"
   ]
  },
  {
   "cell_type": "code",
   "execution_count": 105,
   "metadata": {},
   "outputs": [
    {
     "name": "stdout",
     "output_type": "stream",
     "text": [
      "\u001b[1m============================= test session starts ==============================\u001b[0m\n",
      "platform linux -- Python 3.8.10, pytest-8.3.5, pluggy-1.5.0\n",
      "rootdir: /home/amit.pathak\n",
      "collected 9 items                                                              \u001b[0m\n",
      "\n",
      "test_prod_invent1.py \u001b[32m.\u001b[0m\u001b[32m.\u001b[0m\u001b[32m.\u001b[0m\u001b[32m.\u001b[0m\u001b[32m.\u001b[0m\u001b[32m.\u001b[0m\u001b[32m.\u001b[0m\u001b[32m.\u001b[0m\u001b[32m.\u001b[0m\u001b[32m                                           [100%]\u001b[0m\n",
      "\n",
      "\u001b[32m============================== \u001b[32m\u001b[1m9 passed\u001b[0m\u001b[32m in 0.03s\u001b[0m\u001b[32m ===============================\u001b[0m\n"
     ]
    }
   ],
   "source": [
    "!pytest test_prod_invent1.py"
   ]
  },
  {
   "cell_type": "markdown",
   "metadata": {},
   "source": [
    "Using Parameterization"
   ]
  },
  {
   "cell_type": "code",
   "execution_count": null,
   "metadata": {},
   "outputs": [],
   "source": [
    "def test_category():\n",
    "    category = Category(name = 'Electronics', description = \"device and gadgets\")\n",
    "    assert category.name == 'Electronics'\n",
    "    assert category.description == 'device and gadgets'"
   ]
  },
  {
   "cell_type": "code",
   "execution_count": 116,
   "metadata": {},
   "outputs": [
    {
     "name": "stdout",
     "output_type": "stream",
     "text": [
      "Overwriting test_prod_invent2.py\n"
     ]
    }
   ],
   "source": [
    "\n",
    "%%writefile test_prod_invent2.py\n",
    "import pytest\n",
    "from prod_invent import InvalidDiscountError, Category, Product, Inventory\n",
    "\n",
    "\n",
    "@pytest.mark.parametrize(\n",
    "    \"name, description\",\n",
    "    [\n",
    "        ('mobile', 'this product is categories in devices'),\n",
    "        ('headphone' , 'this product is categories in gadgets'),\n",
    "        ('mouse' , 'this product is categories in gadgets')\n",
    "    ]\n",
    ")\n",
    "\n",
    "def test_category(name, description):\n",
    "    category =  Category(name = name, description  =  description)\n",
    "    assert category.name == name\n",
    "    assert category.description == description"
   ]
  },
  {
   "cell_type": "code",
   "execution_count": 117,
   "metadata": {},
   "outputs": [
    {
     "name": "stdout",
     "output_type": "stream",
     "text": [
      "\u001b[1m============================= test session starts ==============================\u001b[0m\n",
      "platform linux -- Python 3.8.10, pytest-8.3.5, pluggy-1.5.0\n",
      "rootdir: /home/amit.pathak\n",
      "collected 3 items                                                              \u001b[0m\n",
      "\n",
      "test_prod_invent2.py \u001b[32m.\u001b[0m\u001b[32m.\u001b[0m\u001b[32m.\u001b[0m\u001b[32m                                                 [100%]\u001b[0m\n",
      "\n",
      "\u001b[32m============================== \u001b[32m\u001b[1m3 passed\u001b[0m\u001b[32m in 0.02s\u001b[0m\u001b[32m ===============================\u001b[0m\n"
     ]
    }
   ],
   "source": [
    "!pytest test_prod_invent2.py"
   ]
  },
  {
   "cell_type": "code",
   "execution_count": null,
   "metadata": {},
   "outputs": [],
   "source": [
    "%%writefile test_prod_invent2.py\n",
    "from prod_invent import InvalidDiscountError, Category, Product, Inventory\n",
    "import pytest\n",
    "\n",
    "@pytest.mark.parameterize(\n",
    "    \"name, price, quantity, discount, tags\",\n",
    "    [\n",
    "        ('Mobile', 3000.0, 3, 0.0, ['IOT', 'AI']),\n",
    "        ('Laptop', 5000.0, 2, 10.0, ['AI', 'ML']),\n",
    "        ('Tablet', 1500.0, 5, 5.0, ['AI', 'IOT']),\n",
    "    ]\n",
    ")\n",
    "\n",
    "def test_product(name, price, quantity, discount, tags):\n",
    "    product = Product(name =  name, price = price, quantity)"
   ]
  }
 ],
 "metadata": {
  "kernelspec": {
   "display_name": "3.8.10",
   "language": "python",
   "name": "python3"
  },
  "language_info": {
   "codemirror_mode": {
    "name": "ipython",
    "version": 3
   },
   "file_extension": ".py",
   "mimetype": "text/x-python",
   "name": "python",
   "nbconvert_exporter": "python",
   "pygments_lexer": "ipython3",
   "version": "3.8.10"
  }
 },
 "nbformat": 4,
 "nbformat_minor": 2
}
